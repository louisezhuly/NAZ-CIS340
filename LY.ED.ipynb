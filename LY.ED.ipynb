{
 "cells": [
  {
   "cell_type": "code",
   "execution_count": 1,
   "metadata": {},
   "outputs": [],
   "source": [
    "#Add the pandas\n",
    "#Add the numpy\n",
    "import pandas as pd\n",
    "import numpy as np"
   ]
  },
  {
   "cell_type": "code",
   "execution_count": 2,
   "metadata": {},
   "outputs": [],
   "source": [
    "#then bring over the csv file\n",
    "superheroes = pd.read_csv(\"SuperheroData.csv\", parse_dates = [\"FIRST_YEAR\"])"
   ]
  },
  {
   "cell_type": "code",
   "execution_count": 3,
   "metadata": {},
   "outputs": [
    {
     "name": "stdout",
     "output_type": "stream",
     "text": [
      "Total Number of Characters: 23420\n"
     ]
    }
   ],
   "source": [
    "#Let's see how many characters there are in total\n",
    "print(\"Total Number of Characters:\" + \" \" + str(len(superheroes)))"
   ]
  },
  {
   "cell_type": "code",
   "execution_count": 4,
   "metadata": {},
   "outputs": [
    {
     "name": "stdout",
     "output_type": "stream",
     "text": [
      "List of character alignments:\n"
     ]
    },
    {
     "data": {
      "text/plain": [
       "Bad                   9616\n",
       "Good                  7584\n",
       "ND                    3437\n",
       "Neutral               2779\n",
       "Reformed Criminals       3\n",
       "Name: ALIGN, dtype: int64"
      ]
     },
     "execution_count": 4,
     "metadata": {},
     "output_type": "execute_result"
    }
   ],
   "source": [
    "#Let's explore the file a bit...can we find out how many characters are heroes, villans, or others?\n",
    "character_count = superheroes[\"ALIGN\"].value_counts()\n",
    "print(\"List of character alignments:\")\n",
    "character_count"
   ]
  },
  {
   "cell_type": "code",
   "execution_count": 5,
   "metadata": {},
   "outputs": [
    {
     "name": "stdout",
     "output_type": "stream",
     "text": [
      "Total Number of Female Characters: 5853\n"
     ]
    }
   ],
   "source": [
    "#Let's also see how many female characters there are\n",
    "female_count = superheroes.drop(superheroes[superheroes.SEX != \"Female\"].index)\n",
    "print(\"Total Number of Female Characters:\" + \" \" + str(len(female_count)))"
   ]
  },
  {
   "cell_type": "code",
   "execution_count": 6,
   "metadata": {},
   "outputs": [
    {
     "name": "stdout",
     "output_type": "stream",
     "text": [
      "Total Number of Characters without SEX identified: 978\n"
     ]
    }
   ],
   "source": [
    "#So there's only 5853 female characters out of 23,420 characters total. \n",
    "#I wonder how many of them don't have data listed for their sex\n",
    "sex_NDcount = superheroes.drop(superheroes[superheroes.SEX != \"ND\"].index)\n",
    "print(\"Total Number of Characters without SEX identified:\" + \" \" + str(len(sex_NDcount)))\n"
   ]
  },
  {
   "cell_type": "code",
   "execution_count": 7,
   "metadata": {},
   "outputs": [
    {
     "name": "stdout",
     "output_type": "stream",
     "text": [
      "Total Number of Characters: 23420\n",
      "Breakdown of Characters by Sex:\n"
     ]
    },
    {
     "data": {
      "text/plain": [
       "Male           16521\n",
       "Female          5853\n",
       "ND               978\n",
       "Agender           45\n",
       "Genderless        20\n",
       "Genderfluid        2\n",
       "Transgender        1\n",
       "Name: SEX, dtype: int64"
      ]
     },
     "execution_count": 7,
     "metadata": {},
     "output_type": "execute_result"
    }
   ],
   "source": [
    "#So only 978 characters where we do not have data on their sex. \n",
    "#Let's find out more about the different sexes of our characters\n",
    "sex_count = superheroes[\"SEX\"].value_counts()\n",
    "print(\"Total Number of Characters:\" + \" \" + str(len(superheroes)))\n",
    "print(\"Breakdown of Characters by Sex:\")\n",
    "sex_count"
   ]
  },
  {
   "cell_type": "code",
   "execution_count": 8,
   "metadata": {},
   "outputs": [
    {
     "data": {
      "text/html": [
       "<div>\n",
       "<style scoped>\n",
       "    .dataframe tbody tr th:only-of-type {\n",
       "        vertical-align: middle;\n",
       "    }\n",
       "\n",
       "    .dataframe tbody tr th {\n",
       "        vertical-align: top;\n",
       "    }\n",
       "\n",
       "    .dataframe thead th {\n",
       "        text-align: right;\n",
       "    }\n",
       "</style>\n",
       "<table border=\"1\" class=\"dataframe\">\n",
       "  <thead>\n",
       "    <tr style=\"text-align: right;\">\n",
       "      <th>ALIGN</th>\n",
       "      <th>Bad</th>\n",
       "      <th>Good</th>\n",
       "      <th>ND</th>\n",
       "      <th>Neutral</th>\n",
       "      <th>Reformed Criminals</th>\n",
       "    </tr>\n",
       "    <tr>\n",
       "      <th>SEX</th>\n",
       "      <th></th>\n",
       "      <th></th>\n",
       "      <th></th>\n",
       "      <th></th>\n",
       "      <th></th>\n",
       "    </tr>\n",
       "  </thead>\n",
       "  <tbody>\n",
       "    <tr>\n",
       "      <th>Agender</th>\n",
       "      <td>20</td>\n",
       "      <td>10</td>\n",
       "      <td>2</td>\n",
       "      <td>13</td>\n",
       "      <td>0</td>\n",
       "    </tr>\n",
       "    <tr>\n",
       "      <th>Female</th>\n",
       "      <td>1573</td>\n",
       "      <td>2528</td>\n",
       "      <td>913</td>\n",
       "      <td>837</td>\n",
       "      <td>1</td>\n",
       "    </tr>\n",
       "    <tr>\n",
       "      <th>Genderfluid</th>\n",
       "      <td>0</td>\n",
       "      <td>1</td>\n",
       "      <td>0</td>\n",
       "      <td>1</td>\n",
       "      <td>0</td>\n",
       "    </tr>\n",
       "    <tr>\n",
       "      <th>Genderless</th>\n",
       "      <td>11</td>\n",
       "      <td>6</td>\n",
       "      <td>0</td>\n",
       "      <td>3</td>\n",
       "      <td>0</td>\n",
       "    </tr>\n",
       "    <tr>\n",
       "      <th>Male</th>\n",
       "      <td>7562</td>\n",
       "      <td>4888</td>\n",
       "      <td>2265</td>\n",
       "      <td>1804</td>\n",
       "      <td>2</td>\n",
       "    </tr>\n",
       "    <tr>\n",
       "      <th>ND</th>\n",
       "      <td>449</td>\n",
       "      <td>151</td>\n",
       "      <td>257</td>\n",
       "      <td>121</td>\n",
       "      <td>0</td>\n",
       "    </tr>\n",
       "    <tr>\n",
       "      <th>Transgender</th>\n",
       "      <td>1</td>\n",
       "      <td>0</td>\n",
       "      <td>0</td>\n",
       "      <td>0</td>\n",
       "      <td>0</td>\n",
       "    </tr>\n",
       "  </tbody>\n",
       "</table>\n",
       "</div>"
      ],
      "text/plain": [
       "ALIGN         Bad  Good    ND  Neutral  Reformed Criminals\n",
       "SEX                                                       \n",
       "Agender        20    10     2       13                   0\n",
       "Female       1573  2528   913      837                   1\n",
       "Genderfluid     0     1     0        1                   0\n",
       "Genderless     11     6     0        3                   0\n",
       "Male         7562  4888  2265     1804                   2\n",
       "ND            449   151   257      121                   0\n",
       "Transgender     1     0     0        0                   0"
      ]
     },
     "execution_count": 8,
     "metadata": {},
     "output_type": "execute_result"
    }
   ],
   "source": [
    "#Okay, let's try some more things to get stuff out of this data\n",
    "#Can I see the breakdown between the sex of a character and their alignment?\n",
    "align_by_sex = pd.crosstab(superheroes[\"SEX\"], superheroes[\"ALIGN\"])\n",
    "align_by_sex"
   ]
  },
  {
   "cell_type": "code",
   "execution_count": 9,
   "metadata": {},
   "outputs": [
    {
     "data": {
      "text/html": [
       "<div>\n",
       "<style scoped>\n",
       "    .dataframe tbody tr th:only-of-type {\n",
       "        vertical-align: middle;\n",
       "    }\n",
       "\n",
       "    .dataframe tbody tr th {\n",
       "        vertical-align: top;\n",
       "    }\n",
       "\n",
       "    .dataframe thead th {\n",
       "        text-align: right;\n",
       "    }\n",
       "</style>\n",
       "<table border=\"1\" class=\"dataframe\">\n",
       "  <thead>\n",
       "    <tr style=\"text-align: right;\">\n",
       "      <th>ALIGN</th>\n",
       "      <th>Bad</th>\n",
       "      <th>Good</th>\n",
       "      <th>Neutral</th>\n",
       "      <th>Reformed Criminals</th>\n",
       "    </tr>\n",
       "    <tr>\n",
       "      <th>SEX</th>\n",
       "      <th></th>\n",
       "      <th></th>\n",
       "      <th></th>\n",
       "      <th></th>\n",
       "    </tr>\n",
       "  </thead>\n",
       "  <tbody>\n",
       "    <tr>\n",
       "      <th>Agender</th>\n",
       "      <td>20</td>\n",
       "      <td>10</td>\n",
       "      <td>13</td>\n",
       "      <td>0</td>\n",
       "    </tr>\n",
       "    <tr>\n",
       "      <th>Female</th>\n",
       "      <td>1573</td>\n",
       "      <td>2528</td>\n",
       "      <td>837</td>\n",
       "      <td>1</td>\n",
       "    </tr>\n",
       "    <tr>\n",
       "      <th>Genderfluid</th>\n",
       "      <td>0</td>\n",
       "      <td>1</td>\n",
       "      <td>1</td>\n",
       "      <td>0</td>\n",
       "    </tr>\n",
       "    <tr>\n",
       "      <th>Genderless</th>\n",
       "      <td>11</td>\n",
       "      <td>6</td>\n",
       "      <td>3</td>\n",
       "      <td>0</td>\n",
       "    </tr>\n",
       "    <tr>\n",
       "      <th>Male</th>\n",
       "      <td>7562</td>\n",
       "      <td>4888</td>\n",
       "      <td>1804</td>\n",
       "      <td>2</td>\n",
       "    </tr>\n",
       "    <tr>\n",
       "      <th>Transgender</th>\n",
       "      <td>1</td>\n",
       "      <td>0</td>\n",
       "      <td>0</td>\n",
       "      <td>0</td>\n",
       "    </tr>\n",
       "  </tbody>\n",
       "</table>\n",
       "</div>"
      ],
      "text/plain": [
       "ALIGN         Bad  Good  Neutral  Reformed Criminals\n",
       "SEX                                                 \n",
       "Agender        20    10       13                   0\n",
       "Female       1573  2528      837                   1\n",
       "Genderfluid     0     1        1                   0\n",
       "Genderless     11     6        3                   0\n",
       "Male         7562  4888     1804                   2\n",
       "Transgender     1     0        0                   0"
      ]
     },
     "execution_count": 9,
     "metadata": {},
     "output_type": "execute_result"
    }
   ],
   "source": [
    "#cool cool cool, let's get a little deeper and get rid of the ND points\n",
    "align_NDless = superheroes.drop(superheroes[superheroes.ALIGN == \"ND\"].index)\n",
    "align_sex_NDless = align_NDless.drop(align_NDless[align_NDless.SEX == \"ND\"].index)\n",
    "align_by_sex_NDless = pd.crosstab(align_sex_NDless[\"SEX\"], align_sex_NDless[\"ALIGN\"])\n",
    "align_by_sex_NDless"
   ]
  },
  {
   "cell_type": "code",
   "execution_count": 10,
   "metadata": {
    "scrolled": false
   },
   "outputs": [
    {
     "data": {
      "text/html": [
       "<div>\n",
       "<style scoped>\n",
       "    .dataframe tbody tr th:only-of-type {\n",
       "        vertical-align: middle;\n",
       "    }\n",
       "\n",
       "    .dataframe tbody tr th {\n",
       "        vertical-align: top;\n",
       "    }\n",
       "\n",
       "    .dataframe thead th {\n",
       "        text-align: right;\n",
       "    }\n",
       "</style>\n",
       "<table border=\"1\" class=\"dataframe\">\n",
       "  <thead>\n",
       "    <tr style=\"text-align: right;\">\n",
       "      <th></th>\n",
       "      <th>Females Only</th>\n",
       "    </tr>\n",
       "    <tr>\n",
       "      <th>FIRST_MONTH</th>\n",
       "      <th></th>\n",
       "    </tr>\n",
       "  </thead>\n",
       "  <tbody>\n",
       "    <tr>\n",
       "      <th>August</th>\n",
       "      <td>540</td>\n",
       "    </tr>\n",
       "    <tr>\n",
       "      <th>September</th>\n",
       "      <td>517</td>\n",
       "    </tr>\n",
       "    <tr>\n",
       "      <th>December</th>\n",
       "      <td>507</td>\n",
       "    </tr>\n",
       "    <tr>\n",
       "      <th>October</th>\n",
       "      <td>493</td>\n",
       "    </tr>\n",
       "    <tr>\n",
       "      <th>November</th>\n",
       "      <td>482</td>\n",
       "    </tr>\n",
       "    <tr>\n",
       "      <th>June</th>\n",
       "      <td>481</td>\n",
       "    </tr>\n",
       "    <tr>\n",
       "      <th>January</th>\n",
       "      <td>464</td>\n",
       "    </tr>\n",
       "    <tr>\n",
       "      <th>July</th>\n",
       "      <td>457</td>\n",
       "    </tr>\n",
       "    <tr>\n",
       "      <th>February</th>\n",
       "      <td>437</td>\n",
       "    </tr>\n",
       "    <tr>\n",
       "      <th>March</th>\n",
       "      <td>414</td>\n",
       "    </tr>\n",
       "    <tr>\n",
       "      <th>May</th>\n",
       "      <td>401</td>\n",
       "    </tr>\n",
       "    <tr>\n",
       "      <th>April</th>\n",
       "      <td>380</td>\n",
       "    </tr>\n",
       "    <tr>\n",
       "      <th>Holiday</th>\n",
       "      <td>1</td>\n",
       "    </tr>\n",
       "  </tbody>\n",
       "</table>\n",
       "</div>"
      ],
      "text/plain": [
       "             Females Only\n",
       "FIRST_MONTH              \n",
       "August                540\n",
       "September             517\n",
       "December              507\n",
       "October               493\n",
       "November              482\n",
       "June                  481\n",
       "January               464\n",
       "July                  457\n",
       "February              437\n",
       "March                 414\n",
       "May                   401\n",
       "April                 380\n",
       "Holiday                 1"
      ]
     },
     "execution_count": 10,
     "metadata": {},
     "output_type": "execute_result"
    }
   ],
   "source": [
    "#I also want to see what month had the most first appearances by female characters\n",
    "#Let's first narrow down the characters to just females\n",
    "females_only = superheroes.drop(superheroes[superheroes.SEX != \"Female\"].index)\n",
    "#I also want to get rid of the NDs in the months, so let's do that next.\n",
    "#I'm going to use the same 'females_only' file so I can continue to use it later on\n",
    "fem_firstmonth_NDless = females_only.drop(females_only[females_only.FIRST_MONTH == \"ND\"].index)\n",
    "#Great! Now let's make a crosstab\n",
    "females_by_firstmonth = pd.crosstab(fem_firstmonth_NDless[\"FIRST_MONTH\"], [\"SEX\"])\n",
    "#I also want to sort the file before the output so that the highest number is first\n",
    "females_by_firstmonth.sort_values(['SEX'], ascending = False, inplace = True)\n",
    "females_by_firstmonth.columns = [\"Females Only\"]\n",
    "\n",
    "females_by_firstmonth\n"
   ]
  },
  {
   "cell_type": "code",
   "execution_count": 11,
   "metadata": {},
   "outputs": [
    {
     "data": {
      "text/html": [
       "<div>\n",
       "<style scoped>\n",
       "    .dataframe tbody tr th:only-of-type {\n",
       "        vertical-align: middle;\n",
       "    }\n",
       "\n",
       "    .dataframe tbody tr th {\n",
       "        vertical-align: top;\n",
       "    }\n",
       "\n",
       "    .dataframe thead th {\n",
       "        text-align: right;\n",
       "    }\n",
       "</style>\n",
       "<table border=\"1\" class=\"dataframe\">\n",
       "  <thead>\n",
       "    <tr style=\"text-align: right;\">\n",
       "      <th>FIRST_MONTH</th>\n",
       "      <th>August</th>\n",
       "    </tr>\n",
       "    <tr>\n",
       "      <th>FIRST_YEAR</th>\n",
       "      <th></th>\n",
       "    </tr>\n",
       "  </thead>\n",
       "  <tbody>\n",
       "    <tr>\n",
       "      <th>2010</th>\n",
       "      <td>34</td>\n",
       "    </tr>\n",
       "    <tr>\n",
       "      <th>1997</th>\n",
       "      <td>27</td>\n",
       "    </tr>\n",
       "    <tr>\n",
       "      <th>2009</th>\n",
       "      <td>25</td>\n",
       "    </tr>\n",
       "    <tr>\n",
       "      <th>2011</th>\n",
       "      <td>23</td>\n",
       "    </tr>\n",
       "    <tr>\n",
       "      <th>2004</th>\n",
       "      <td>21</td>\n",
       "    </tr>\n",
       "  </tbody>\n",
       "</table>\n",
       "</div>"
      ],
      "text/plain": [
       "FIRST_MONTH  August\n",
       "FIRST_YEAR         \n",
       "2010             34\n",
       "1997             27\n",
       "2009             25\n",
       "2011             23\n",
       "2004             21"
      ]
     },
     "execution_count": 11,
     "metadata": {},
     "output_type": "execute_result"
    }
   ],
   "source": [
    "#Well, let's get into finding what year had the most female character appearances\n",
    "#First, I'm going to remove the NDs from the FIRST_YEAR key. Let's use our previous filtered dataframe\n",
    "fem_firstmonth_year_NDless = fem_firstmonth_NDless.drop(fem_firstmonth_NDless[fem_firstmonth_NDless.FIRST_YEAR == \"ND\"].index)\n",
    "aug_femfirstmonth_year = fem_firstmonth_year_NDless.drop(fem_firstmonth_year_NDless[fem_firstmonth_year_NDless.FIRST_MONTH != \"August\"].index)\n",
    "aug_femfirstmonth_year = pd.crosstab(index = aug_femfirstmonth_year[\"FIRST_YEAR\"], columns = aug_femfirstmonth_year[\"FIRST_MONTH\"])\n",
    "aug_femfirstmonth_year.sort_values(['August'], ascending = False, inplace = True)\n",
    "#Let me tell you how long those two lines of code above took to figure out.\n",
    "#Finally, I just decided to drop all the other months and sort it that way to get what I needed. \n",
    "aug_femfirstmonth_year.head()"
   ]
  },
  {
   "cell_type": "code",
   "execution_count": 12,
   "metadata": {},
   "outputs": [
    {
     "data": {
      "text/html": [
       "<div>\n",
       "<style scoped>\n",
       "    .dataframe tbody tr th:only-of-type {\n",
       "        vertical-align: middle;\n",
       "    }\n",
       "\n",
       "    .dataframe tbody tr th {\n",
       "        vertical-align: top;\n",
       "    }\n",
       "\n",
       "    .dataframe thead th {\n",
       "        text-align: right;\n",
       "    }\n",
       "</style>\n",
       "<table border=\"1\" class=\"dataframe\">\n",
       "  <thead>\n",
       "    <tr style=\"text-align: right;\">\n",
       "      <th>FIRST_MONTH</th>\n",
       "      <th>September</th>\n",
       "    </tr>\n",
       "    <tr>\n",
       "      <th>FIRST_YEAR</th>\n",
       "      <th></th>\n",
       "    </tr>\n",
       "  </thead>\n",
       "  <tbody>\n",
       "    <tr>\n",
       "      <th>2006</th>\n",
       "      <td>34</td>\n",
       "    </tr>\n",
       "    <tr>\n",
       "      <th>1996</th>\n",
       "      <td>28</td>\n",
       "    </tr>\n",
       "    <tr>\n",
       "      <th>1994</th>\n",
       "      <td>21</td>\n",
       "    </tr>\n",
       "    <tr>\n",
       "      <th>1988</th>\n",
       "      <td>20</td>\n",
       "    </tr>\n",
       "    <tr>\n",
       "      <th>2007</th>\n",
       "      <td>18</td>\n",
       "    </tr>\n",
       "  </tbody>\n",
       "</table>\n",
       "</div>"
      ],
      "text/plain": [
       "FIRST_MONTH  September\n",
       "FIRST_YEAR            \n",
       "2006                34\n",
       "1996                28\n",
       "1994                21\n",
       "1988                20\n",
       "2007                18"
      ]
     },
     "execution_count": 12,
     "metadata": {},
     "output_type": "execute_result"
    }
   ],
   "source": [
    "#We're just gonna keep going down the line of months from most female characters to least and see where it gets us\n",
    "sept_femfirstmonth_year = fem_firstmonth_year_NDless.drop(fem_firstmonth_year_NDless[fem_firstmonth_year_NDless.FIRST_MONTH != \"September\"].index)\n",
    "sept_femfirstmonth_year = pd.crosstab(index = sept_femfirstmonth_year[\"FIRST_YEAR\"], columns = sept_femfirstmonth_year[\"FIRST_MONTH\"])\n",
    "sept_femfirstmonth_year.sort_values(['September'], ascending = False, inplace = True)\n",
    "\n",
    "sept_femfirstmonth_year.head()"
   ]
  },
  {
   "cell_type": "code",
   "execution_count": 13,
   "metadata": {},
   "outputs": [
    {
     "data": {
      "text/html": [
       "<div>\n",
       "<style scoped>\n",
       "    .dataframe tbody tr th:only-of-type {\n",
       "        vertical-align: middle;\n",
       "    }\n",
       "\n",
       "    .dataframe tbody tr th {\n",
       "        vertical-align: top;\n",
       "    }\n",
       "\n",
       "    .dataframe thead th {\n",
       "        text-align: right;\n",
       "    }\n",
       "</style>\n",
       "<table border=\"1\" class=\"dataframe\">\n",
       "  <thead>\n",
       "    <tr style=\"text-align: right;\">\n",
       "      <th>FIRST_MONTH</th>\n",
       "      <th>December</th>\n",
       "    </tr>\n",
       "    <tr>\n",
       "      <th>FIRST_YEAR</th>\n",
       "      <th></th>\n",
       "    </tr>\n",
       "  </thead>\n",
       "  <tbody>\n",
       "    <tr>\n",
       "      <th>1987</th>\n",
       "      <td>25</td>\n",
       "    </tr>\n",
       "    <tr>\n",
       "      <th>1989</th>\n",
       "      <td>21</td>\n",
       "    </tr>\n",
       "    <tr>\n",
       "      <th>1993</th>\n",
       "      <td>21</td>\n",
       "    </tr>\n",
       "    <tr>\n",
       "      <th>2001</th>\n",
       "      <td>20</td>\n",
       "    </tr>\n",
       "    <tr>\n",
       "      <th>2010</th>\n",
       "      <td>19</td>\n",
       "    </tr>\n",
       "  </tbody>\n",
       "</table>\n",
       "</div>"
      ],
      "text/plain": [
       "FIRST_MONTH  December\n",
       "FIRST_YEAR           \n",
       "1987               25\n",
       "1989               21\n",
       "1993               21\n",
       "2001               20\n",
       "2010               19"
      ]
     },
     "execution_count": 13,
     "metadata": {},
     "output_type": "execute_result"
    }
   ],
   "source": [
    "dec_femfirstmonth_year = fem_firstmonth_year_NDless.drop(fem_firstmonth_year_NDless[fem_firstmonth_year_NDless.FIRST_MONTH != \"December\"].index)\n",
    "dec_femfirstmonth_year = pd.crosstab(index = dec_femfirstmonth_year[\"FIRST_YEAR\"], columns = dec_femfirstmonth_year[\"FIRST_MONTH\"])\n",
    "dec_femfirstmonth_year.sort_values(['December'], ascending = False, inplace = True)\n",
    "\n",
    "dec_femfirstmonth_year.head()"
   ]
  },
  {
   "cell_type": "code",
   "execution_count": 14,
   "metadata": {},
   "outputs": [
    {
     "data": {
      "text/html": [
       "<div>\n",
       "<style scoped>\n",
       "    .dataframe tbody tr th:only-of-type {\n",
       "        vertical-align: middle;\n",
       "    }\n",
       "\n",
       "    .dataframe tbody tr th {\n",
       "        vertical-align: top;\n",
       "    }\n",
       "\n",
       "    .dataframe thead th {\n",
       "        text-align: right;\n",
       "    }\n",
       "</style>\n",
       "<table border=\"1\" class=\"dataframe\">\n",
       "  <thead>\n",
       "    <tr style=\"text-align: right;\">\n",
       "      <th>FIRST_MONTH</th>\n",
       "      <th>October</th>\n",
       "    </tr>\n",
       "    <tr>\n",
       "      <th>FIRST_YEAR</th>\n",
       "      <th></th>\n",
       "    </tr>\n",
       "  </thead>\n",
       "  <tbody>\n",
       "    <tr>\n",
       "      <th>2009</th>\n",
       "      <td>28</td>\n",
       "    </tr>\n",
       "    <tr>\n",
       "      <th>1988</th>\n",
       "      <td>28</td>\n",
       "    </tr>\n",
       "    <tr>\n",
       "      <th>1994</th>\n",
       "      <td>21</td>\n",
       "    </tr>\n",
       "    <tr>\n",
       "      <th>2010</th>\n",
       "      <td>19</td>\n",
       "    </tr>\n",
       "    <tr>\n",
       "      <th>2006</th>\n",
       "      <td>19</td>\n",
       "    </tr>\n",
       "  </tbody>\n",
       "</table>\n",
       "</div>"
      ],
      "text/plain": [
       "FIRST_MONTH  October\n",
       "FIRST_YEAR          \n",
       "2009              28\n",
       "1988              28\n",
       "1994              21\n",
       "2010              19\n",
       "2006              19"
      ]
     },
     "execution_count": 14,
     "metadata": {},
     "output_type": "execute_result"
    }
   ],
   "source": [
    "oct_femfirstmonth_year = fem_firstmonth_year_NDless.drop(fem_firstmonth_year_NDless[fem_firstmonth_year_NDless.FIRST_MONTH != \"October\"].index)\n",
    "oct_femfirstmonth_year = pd.crosstab(index = oct_femfirstmonth_year[\"FIRST_YEAR\"], columns = oct_femfirstmonth_year[\"FIRST_MONTH\"])\n",
    "oct_femfirstmonth_year.sort_values(['October'], ascending = False, inplace = True)\n",
    "\n",
    "oct_femfirstmonth_year.head()"
   ]
  },
  {
   "cell_type": "code",
   "execution_count": 15,
   "metadata": {},
   "outputs": [
    {
     "data": {
      "text/html": [
       "<div>\n",
       "<style scoped>\n",
       "    .dataframe tbody tr th:only-of-type {\n",
       "        vertical-align: middle;\n",
       "    }\n",
       "\n",
       "    .dataframe tbody tr th {\n",
       "        vertical-align: top;\n",
       "    }\n",
       "\n",
       "    .dataframe thead th {\n",
       "        text-align: right;\n",
       "    }\n",
       "</style>\n",
       "<table border=\"1\" class=\"dataframe\">\n",
       "  <thead>\n",
       "    <tr style=\"text-align: right;\">\n",
       "      <th>FIRST_MONTH</th>\n",
       "      <th>November</th>\n",
       "    </tr>\n",
       "    <tr>\n",
       "      <th>FIRST_YEAR</th>\n",
       "      <th></th>\n",
       "    </tr>\n",
       "  </thead>\n",
       "  <tbody>\n",
       "    <tr>\n",
       "      <th>1996</th>\n",
       "      <td>23</td>\n",
       "    </tr>\n",
       "    <tr>\n",
       "      <th>2010</th>\n",
       "      <td>23</td>\n",
       "    </tr>\n",
       "    <tr>\n",
       "      <th>2005</th>\n",
       "      <td>19</td>\n",
       "    </tr>\n",
       "    <tr>\n",
       "      <th>2008</th>\n",
       "      <td>18</td>\n",
       "    </tr>\n",
       "    <tr>\n",
       "      <th>1994</th>\n",
       "      <td>18</td>\n",
       "    </tr>\n",
       "  </tbody>\n",
       "</table>\n",
       "</div>"
      ],
      "text/plain": [
       "FIRST_MONTH  November\n",
       "FIRST_YEAR           \n",
       "1996               23\n",
       "2010               23\n",
       "2005               19\n",
       "2008               18\n",
       "1994               18"
      ]
     },
     "execution_count": 15,
     "metadata": {},
     "output_type": "execute_result"
    }
   ],
   "source": [
    "nov_femfirstmonth_year = fem_firstmonth_year_NDless.drop(fem_firstmonth_year_NDless[fem_firstmonth_year_NDless.FIRST_MONTH != \"November\"].index)\n",
    "nov_femfirstmonth_year = pd.crosstab(index = nov_femfirstmonth_year[\"FIRST_YEAR\"], columns = nov_femfirstmonth_year[\"FIRST_MONTH\"])\n",
    "nov_femfirstmonth_year.sort_values(['November'], ascending = False, inplace = True)\n",
    "\n",
    "nov_femfirstmonth_year.head()"
   ]
  },
  {
   "cell_type": "code",
   "execution_count": 16,
   "metadata": {},
   "outputs": [
    {
     "data": {
      "text/html": [
       "<div>\n",
       "<style scoped>\n",
       "    .dataframe tbody tr th:only-of-type {\n",
       "        vertical-align: middle;\n",
       "    }\n",
       "\n",
       "    .dataframe tbody tr th {\n",
       "        vertical-align: top;\n",
       "    }\n",
       "\n",
       "    .dataframe thead th {\n",
       "        text-align: right;\n",
       "    }\n",
       "</style>\n",
       "<table border=\"1\" class=\"dataframe\">\n",
       "  <thead>\n",
       "    <tr style=\"text-align: right;\">\n",
       "      <th>FIRST_MONTH</th>\n",
       "      <th>June</th>\n",
       "    </tr>\n",
       "    <tr>\n",
       "      <th>FIRST_YEAR</th>\n",
       "      <th></th>\n",
       "    </tr>\n",
       "  </thead>\n",
       "  <tbody>\n",
       "    <tr>\n",
       "      <th>1992</th>\n",
       "      <td>26</td>\n",
       "    </tr>\n",
       "    <tr>\n",
       "      <th>1993</th>\n",
       "      <td>24</td>\n",
       "    </tr>\n",
       "    <tr>\n",
       "      <th>1989</th>\n",
       "      <td>20</td>\n",
       "    </tr>\n",
       "    <tr>\n",
       "      <th>2005</th>\n",
       "      <td>19</td>\n",
       "    </tr>\n",
       "    <tr>\n",
       "      <th>2006</th>\n",
       "      <td>18</td>\n",
       "    </tr>\n",
       "  </tbody>\n",
       "</table>\n",
       "</div>"
      ],
      "text/plain": [
       "FIRST_MONTH  June\n",
       "FIRST_YEAR       \n",
       "1992           26\n",
       "1993           24\n",
       "1989           20\n",
       "2005           19\n",
       "2006           18"
      ]
     },
     "execution_count": 16,
     "metadata": {},
     "output_type": "execute_result"
    }
   ],
   "source": [
    "june_femfirstmonth_year = fem_firstmonth_year_NDless.drop(fem_firstmonth_year_NDless[fem_firstmonth_year_NDless.FIRST_MONTH != \"June\"].index)\n",
    "june_femfirstmonth_year = pd.crosstab(index = june_femfirstmonth_year[\"FIRST_YEAR\"], columns = june_femfirstmonth_year[\"FIRST_MONTH\"])\n",
    "june_femfirstmonth_year.sort_values(['June'], ascending = False, inplace = True)\n",
    "\n",
    "june_femfirstmonth_year.head()"
   ]
  },
  {
   "cell_type": "code",
   "execution_count": 17,
   "metadata": {},
   "outputs": [
    {
     "data": {
      "text/html": [
       "<div>\n",
       "<style scoped>\n",
       "    .dataframe tbody tr th:only-of-type {\n",
       "        vertical-align: middle;\n",
       "    }\n",
       "\n",
       "    .dataframe tbody tr th {\n",
       "        vertical-align: top;\n",
       "    }\n",
       "\n",
       "    .dataframe thead th {\n",
       "        text-align: right;\n",
       "    }\n",
       "</style>\n",
       "<table border=\"1\" class=\"dataframe\">\n",
       "  <thead>\n",
       "    <tr style=\"text-align: right;\">\n",
       "      <th>FIRST_MONTH</th>\n",
       "      <th>January</th>\n",
       "    </tr>\n",
       "    <tr>\n",
       "      <th>FIRST_YEAR</th>\n",
       "      <th></th>\n",
       "    </tr>\n",
       "  </thead>\n",
       "  <tbody>\n",
       "    <tr>\n",
       "      <th>2011</th>\n",
       "      <td>27</td>\n",
       "    </tr>\n",
       "    <tr>\n",
       "      <th>2006</th>\n",
       "      <td>25</td>\n",
       "    </tr>\n",
       "    <tr>\n",
       "      <th>1994</th>\n",
       "      <td>25</td>\n",
       "    </tr>\n",
       "    <tr>\n",
       "      <th>2008</th>\n",
       "      <td>24</td>\n",
       "    </tr>\n",
       "    <tr>\n",
       "      <th>1989</th>\n",
       "      <td>16</td>\n",
       "    </tr>\n",
       "  </tbody>\n",
       "</table>\n",
       "</div>"
      ],
      "text/plain": [
       "FIRST_MONTH  January\n",
       "FIRST_YEAR          \n",
       "2011              27\n",
       "2006              25\n",
       "1994              25\n",
       "2008              24\n",
       "1989              16"
      ]
     },
     "execution_count": 17,
     "metadata": {},
     "output_type": "execute_result"
    }
   ],
   "source": [
    "jan_femfirstmonth_year = fem_firstmonth_year_NDless.drop(fem_firstmonth_year_NDless[fem_firstmonth_year_NDless.FIRST_MONTH != \"January\"].index)\n",
    "jan_femfirstmonth_year = pd.crosstab(index = jan_femfirstmonth_year[\"FIRST_YEAR\"], columns = jan_femfirstmonth_year[\"FIRST_MONTH\"])\n",
    "jan_femfirstmonth_year.sort_values(['January'], ascending = False, inplace = True)\n",
    "\n",
    "jan_femfirstmonth_year.head()"
   ]
  },
  {
   "cell_type": "code",
   "execution_count": 18,
   "metadata": {},
   "outputs": [
    {
     "data": {
      "text/html": [
       "<div>\n",
       "<style scoped>\n",
       "    .dataframe tbody tr th:only-of-type {\n",
       "        vertical-align: middle;\n",
       "    }\n",
       "\n",
       "    .dataframe tbody tr th {\n",
       "        vertical-align: top;\n",
       "    }\n",
       "\n",
       "    .dataframe thead th {\n",
       "        text-align: right;\n",
       "    }\n",
       "</style>\n",
       "<table border=\"1\" class=\"dataframe\">\n",
       "  <thead>\n",
       "    <tr style=\"text-align: right;\">\n",
       "      <th>FIRST_MONTH</th>\n",
       "      <th>July</th>\n",
       "    </tr>\n",
       "    <tr>\n",
       "      <th>FIRST_YEAR</th>\n",
       "      <th></th>\n",
       "    </tr>\n",
       "  </thead>\n",
       "  <tbody>\n",
       "    <tr>\n",
       "      <th>2003</th>\n",
       "      <td>26</td>\n",
       "    </tr>\n",
       "    <tr>\n",
       "      <th>2008</th>\n",
       "      <td>22</td>\n",
       "    </tr>\n",
       "    <tr>\n",
       "      <th>2004</th>\n",
       "      <td>22</td>\n",
       "    </tr>\n",
       "    <tr>\n",
       "      <th>1992</th>\n",
       "      <td>21</td>\n",
       "    </tr>\n",
       "    <tr>\n",
       "      <th>1998</th>\n",
       "      <td>17</td>\n",
       "    </tr>\n",
       "  </tbody>\n",
       "</table>\n",
       "</div>"
      ],
      "text/plain": [
       "FIRST_MONTH  July\n",
       "FIRST_YEAR       \n",
       "2003           26\n",
       "2008           22\n",
       "2004           22\n",
       "1992           21\n",
       "1998           17"
      ]
     },
     "execution_count": 18,
     "metadata": {},
     "output_type": "execute_result"
    }
   ],
   "source": [
    "july_femfirstmonth_year = fem_firstmonth_year_NDless.drop(fem_firstmonth_year_NDless[fem_firstmonth_year_NDless.FIRST_MONTH != \"July\"].index)\n",
    "july_femfirstmonth_year = pd.crosstab(index = july_femfirstmonth_year[\"FIRST_YEAR\"], columns = july_femfirstmonth_year[\"FIRST_MONTH\"])\n",
    "july_femfirstmonth_year.sort_values(['July'], ascending = False, inplace = True)\n",
    "\n",
    "july_femfirstmonth_year.head()"
   ]
  },
  {
   "cell_type": "code",
   "execution_count": 19,
   "metadata": {},
   "outputs": [
    {
     "data": {
      "text/html": [
       "<div>\n",
       "<style scoped>\n",
       "    .dataframe tbody tr th:only-of-type {\n",
       "        vertical-align: middle;\n",
       "    }\n",
       "\n",
       "    .dataframe tbody tr th {\n",
       "        vertical-align: top;\n",
       "    }\n",
       "\n",
       "    .dataframe thead th {\n",
       "        text-align: right;\n",
       "    }\n",
       "</style>\n",
       "<table border=\"1\" class=\"dataframe\">\n",
       "  <thead>\n",
       "    <tr style=\"text-align: right;\">\n",
       "      <th>FIRST_MONTH</th>\n",
       "      <th>February</th>\n",
       "    </tr>\n",
       "    <tr>\n",
       "      <th>FIRST_YEAR</th>\n",
       "      <th></th>\n",
       "    </tr>\n",
       "  </thead>\n",
       "  <tbody>\n",
       "    <tr>\n",
       "      <th>1996</th>\n",
       "      <td>21</td>\n",
       "    </tr>\n",
       "    <tr>\n",
       "      <th>1987</th>\n",
       "      <td>19</td>\n",
       "    </tr>\n",
       "    <tr>\n",
       "      <th>2006</th>\n",
       "      <td>16</td>\n",
       "    </tr>\n",
       "    <tr>\n",
       "      <th>2011</th>\n",
       "      <td>15</td>\n",
       "    </tr>\n",
       "    <tr>\n",
       "      <th>2010</th>\n",
       "      <td>15</td>\n",
       "    </tr>\n",
       "  </tbody>\n",
       "</table>\n",
       "</div>"
      ],
      "text/plain": [
       "FIRST_MONTH  February\n",
       "FIRST_YEAR           \n",
       "1996               21\n",
       "1987               19\n",
       "2006               16\n",
       "2011               15\n",
       "2010               15"
      ]
     },
     "execution_count": 19,
     "metadata": {},
     "output_type": "execute_result"
    }
   ],
   "source": [
    "feb_femfirstmonth_year = fem_firstmonth_year_NDless.drop(fem_firstmonth_year_NDless[fem_firstmonth_year_NDless.FIRST_MONTH != \"February\"].index)\n",
    "feb_femfirstmonth_year = pd.crosstab(index = feb_femfirstmonth_year[\"FIRST_YEAR\"], columns = feb_femfirstmonth_year[\"FIRST_MONTH\"])\n",
    "feb_femfirstmonth_year.sort_values(['February'], ascending = False, inplace = True)\n",
    "\n",
    "feb_femfirstmonth_year.head()"
   ]
  },
  {
   "cell_type": "code",
   "execution_count": 20,
   "metadata": {},
   "outputs": [
    {
     "data": {
      "text/html": [
       "<div>\n",
       "<style scoped>\n",
       "    .dataframe tbody tr th:only-of-type {\n",
       "        vertical-align: middle;\n",
       "    }\n",
       "\n",
       "    .dataframe tbody tr th {\n",
       "        vertical-align: top;\n",
       "    }\n",
       "\n",
       "    .dataframe thead th {\n",
       "        text-align: right;\n",
       "    }\n",
       "</style>\n",
       "<table border=\"1\" class=\"dataframe\">\n",
       "  <thead>\n",
       "    <tr style=\"text-align: right;\">\n",
       "      <th>FIRST_MONTH</th>\n",
       "      <th>March</th>\n",
       "    </tr>\n",
       "    <tr>\n",
       "      <th>FIRST_YEAR</th>\n",
       "      <th></th>\n",
       "    </tr>\n",
       "  </thead>\n",
       "  <tbody>\n",
       "    <tr>\n",
       "      <th>1993</th>\n",
       "      <td>19</td>\n",
       "    </tr>\n",
       "    <tr>\n",
       "      <th>1994</th>\n",
       "      <td>17</td>\n",
       "    </tr>\n",
       "    <tr>\n",
       "      <th>1986</th>\n",
       "      <td>16</td>\n",
       "    </tr>\n",
       "    <tr>\n",
       "      <th>1999</th>\n",
       "      <td>16</td>\n",
       "    </tr>\n",
       "    <tr>\n",
       "      <th>2000</th>\n",
       "      <td>15</td>\n",
       "    </tr>\n",
       "  </tbody>\n",
       "</table>\n",
       "</div>"
      ],
      "text/plain": [
       "FIRST_MONTH  March\n",
       "FIRST_YEAR        \n",
       "1993            19\n",
       "1994            17\n",
       "1986            16\n",
       "1999            16\n",
       "2000            15"
      ]
     },
     "execution_count": 20,
     "metadata": {},
     "output_type": "execute_result"
    }
   ],
   "source": [
    "mar_femfirstmonth_year = fem_firstmonth_year_NDless.drop(fem_firstmonth_year_NDless[fem_firstmonth_year_NDless.FIRST_MONTH != \"March\"].index)\n",
    "mar_femfirstmonth_year = pd.crosstab(index = mar_femfirstmonth_year[\"FIRST_YEAR\"], columns = mar_femfirstmonth_year[\"FIRST_MONTH\"])\n",
    "mar_femfirstmonth_year.sort_values(['March'], ascending = False, inplace = True)\n",
    "\n",
    "mar_femfirstmonth_year.head()"
   ]
  },
  {
   "cell_type": "code",
   "execution_count": 21,
   "metadata": {},
   "outputs": [
    {
     "data": {
      "text/html": [
       "<div>\n",
       "<style scoped>\n",
       "    .dataframe tbody tr th:only-of-type {\n",
       "        vertical-align: middle;\n",
       "    }\n",
       "\n",
       "    .dataframe tbody tr th {\n",
       "        vertical-align: top;\n",
       "    }\n",
       "\n",
       "    .dataframe thead th {\n",
       "        text-align: right;\n",
       "    }\n",
       "</style>\n",
       "<table border=\"1\" class=\"dataframe\">\n",
       "  <thead>\n",
       "    <tr style=\"text-align: right;\">\n",
       "      <th>FIRST_MONTH</th>\n",
       "      <th>May</th>\n",
       "    </tr>\n",
       "    <tr>\n",
       "      <th>FIRST_YEAR</th>\n",
       "      <th></th>\n",
       "    </tr>\n",
       "  </thead>\n",
       "  <tbody>\n",
       "    <tr>\n",
       "      <th>1990</th>\n",
       "      <td>22</td>\n",
       "    </tr>\n",
       "    <tr>\n",
       "      <th>2006</th>\n",
       "      <td>20</td>\n",
       "    </tr>\n",
       "    <tr>\n",
       "      <th>2005</th>\n",
       "      <td>20</td>\n",
       "    </tr>\n",
       "    <tr>\n",
       "      <th>1993</th>\n",
       "      <td>16</td>\n",
       "    </tr>\n",
       "    <tr>\n",
       "      <th>2010</th>\n",
       "      <td>14</td>\n",
       "    </tr>\n",
       "  </tbody>\n",
       "</table>\n",
       "</div>"
      ],
      "text/plain": [
       "FIRST_MONTH  May\n",
       "FIRST_YEAR      \n",
       "1990          22\n",
       "2006          20\n",
       "2005          20\n",
       "1993          16\n",
       "2010          14"
      ]
     },
     "execution_count": 21,
     "metadata": {},
     "output_type": "execute_result"
    }
   ],
   "source": [
    "may_femfirstmonth_year = fem_firstmonth_year_NDless.drop(fem_firstmonth_year_NDless[fem_firstmonth_year_NDless.FIRST_MONTH != \"May\"].index)\n",
    "may_femfirstmonth_year = pd.crosstab(index = may_femfirstmonth_year[\"FIRST_YEAR\"], columns = may_femfirstmonth_year[\"FIRST_MONTH\"])\n",
    "may_femfirstmonth_year.sort_values(['May'], ascending = False, inplace = True)\n",
    "\n",
    "may_femfirstmonth_year.head()"
   ]
  },
  {
   "cell_type": "code",
   "execution_count": 22,
   "metadata": {},
   "outputs": [
    {
     "data": {
      "text/html": [
       "<div>\n",
       "<style scoped>\n",
       "    .dataframe tbody tr th:only-of-type {\n",
       "        vertical-align: middle;\n",
       "    }\n",
       "\n",
       "    .dataframe tbody tr th {\n",
       "        vertical-align: top;\n",
       "    }\n",
       "\n",
       "    .dataframe thead th {\n",
       "        text-align: right;\n",
       "    }\n",
       "</style>\n",
       "<table border=\"1\" class=\"dataframe\">\n",
       "  <thead>\n",
       "    <tr style=\"text-align: right;\">\n",
       "      <th>FIRST_MONTH</th>\n",
       "      <th>April</th>\n",
       "    </tr>\n",
       "    <tr>\n",
       "      <th>FIRST_YEAR</th>\n",
       "      <th></th>\n",
       "    </tr>\n",
       "  </thead>\n",
       "  <tbody>\n",
       "    <tr>\n",
       "      <th>2005</th>\n",
       "      <td>20</td>\n",
       "    </tr>\n",
       "    <tr>\n",
       "      <th>1996</th>\n",
       "      <td>16</td>\n",
       "    </tr>\n",
       "    <tr>\n",
       "      <th>1993</th>\n",
       "      <td>14</td>\n",
       "    </tr>\n",
       "    <tr>\n",
       "      <th>1997</th>\n",
       "      <td>12</td>\n",
       "    </tr>\n",
       "    <tr>\n",
       "      <th>1988</th>\n",
       "      <td>12</td>\n",
       "    </tr>\n",
       "  </tbody>\n",
       "</table>\n",
       "</div>"
      ],
      "text/plain": [
       "FIRST_MONTH  April\n",
       "FIRST_YEAR        \n",
       "2005            20\n",
       "1996            16\n",
       "1993            14\n",
       "1997            12\n",
       "1988            12"
      ]
     },
     "execution_count": 22,
     "metadata": {},
     "output_type": "execute_result"
    }
   ],
   "source": [
    "apr_femfirstmonth_year = fem_firstmonth_year_NDless.drop(fem_firstmonth_year_NDless[fem_firstmonth_year_NDless.FIRST_MONTH != \"April\"].index)\n",
    "apr_femfirstmonth_year = pd.crosstab(index = apr_femfirstmonth_year[\"FIRST_YEAR\"], columns = apr_femfirstmonth_year[\"FIRST_MONTH\"])\n",
    "apr_femfirstmonth_year.sort_values(['April'], ascending = False, inplace = True)\n",
    "\n",
    "apr_femfirstmonth_year.head()"
   ]
  },
  {
   "cell_type": "code",
   "execution_count": 23,
   "metadata": {},
   "outputs": [
    {
     "data": {
      "text/html": [
       "<div>\n",
       "<style scoped>\n",
       "    .dataframe tbody tr th:only-of-type {\n",
       "        vertical-align: middle;\n",
       "    }\n",
       "\n",
       "    .dataframe tbody tr th {\n",
       "        vertical-align: top;\n",
       "    }\n",
       "\n",
       "    .dataframe thead th {\n",
       "        text-align: right;\n",
       "    }\n",
       "</style>\n",
       "<table border=\"1\" class=\"dataframe\">\n",
       "  <thead>\n",
       "    <tr style=\"text-align: right;\">\n",
       "      <th></th>\n",
       "      <th>Females Only</th>\n",
       "    </tr>\n",
       "    <tr>\n",
       "      <th>FIRST_YEAR</th>\n",
       "      <th></th>\n",
       "    </tr>\n",
       "  </thead>\n",
       "  <tbody>\n",
       "    <tr>\n",
       "      <th>2006</th>\n",
       "      <td>201</td>\n",
       "    </tr>\n",
       "    <tr>\n",
       "      <th>1994</th>\n",
       "      <td>187</td>\n",
       "    </tr>\n",
       "    <tr>\n",
       "      <th>2010</th>\n",
       "      <td>184</td>\n",
       "    </tr>\n",
       "    <tr>\n",
       "      <th>1993</th>\n",
       "      <td>181</td>\n",
       "    </tr>\n",
       "    <tr>\n",
       "      <th>2008</th>\n",
       "      <td>175</td>\n",
       "    </tr>\n",
       "  </tbody>\n",
       "</table>\n",
       "</div>"
      ],
      "text/plain": [
       "            Females Only\n",
       "FIRST_YEAR              \n",
       "2006                 201\n",
       "1994                 187\n",
       "2010                 184\n",
       "1993                 181\n",
       "2008                 175"
      ]
     },
     "execution_count": 23,
     "metadata": {},
     "output_type": "execute_result"
    }
   ],
   "source": [
    "#So we've broken down the highest first appearances of a female character by month and by year within a month.\n",
    "#Let's backtrack and see which years had the highest female first appearances overall\n",
    "fem_firstyear = pd.crosstab(index = fem_firstmonth_year_NDless[\"FIRST_YEAR\"], columns = fem_firstmonth_year_NDless[\"SEX\"])\n",
    "fem_firstyear.sort_values([\"Female\"], ascending = False, inplace = True)\n",
    "fem_firstyear.columns = [\"Females Only\"]\n",
    "\n",
    "fem_firstyear.head()"
   ]
  },
  {
   "cell_type": "code",
   "execution_count": 27,
   "metadata": {},
   "outputs": [
    {
     "name": "stdout",
     "output_type": "stream",
     "text": [
      "Alignment of Female characters in the year 2006: \n"
     ]
    },
    {
     "data": {
      "text/plain": [
       "Good       100\n",
       "Bad         40\n",
       "ND          36\n",
       "Neutral     25\n",
       "Name: ALIGN, dtype: int64"
      ]
     },
     "execution_count": 27,
     "metadata": {},
     "output_type": "execute_result"
    }
   ],
   "source": [
    "#Looks like 2006 is the winner for the year with the most first appearances by female characters. \n",
    "#Let's look at 2006 and see what alignment female characters had in their first appearance\n",
    "align_ohsix = fem_firstmonth_year_NDless.drop(fem_firstmonth_year_NDless[fem_firstmonth_year_NDless.FIRST_YEAR != \"2006\"].index)\n",
    "align_ohsix_count = align_ohsix[\"ALIGN\"].value_counts()\n",
    "print(\"Alignment of Female characters in the year 2006: \")\n",
    "align_ohsix_count"
   ]
  },
  {
   "cell_type": "code",
   "execution_count": 28,
   "metadata": {},
   "outputs": [
    {
     "name": "stdout",
     "output_type": "stream",
     "text": [
      "Alignment of Female characters in the year 2006: \n"
     ]
    },
    {
     "data": {
      "text/plain": [
       "Good       100\n",
       "Bad         40\n",
       "Neutral     25\n",
       "Name: ALIGN, dtype: int64"
      ]
     },
     "execution_count": 28,
     "metadata": {},
     "output_type": "execute_result"
    }
   ],
   "source": [
    "#Let's remove the those 36 NDs just to clean the data up\n",
    "fem_align_NDless = fem_firstmonth_year_NDless.drop(fem_firstmonth_year_NDless[fem_firstmonth_year_NDless.ALIGN == \"ND\"].index)\n",
    "fem_align_ohsix = fem_align_NDless.drop(fem_align_NDless[fem_align_NDless.FIRST_YEAR != \"2006\"].index)\n",
    "fem_align_ohsixyr = pd.crosstab(index = fem_align_ohsix[\"ALIGN\"], columns = fem_align_ohsix[\"FIRST_YEAR\"])\n",
    "fem_align_count = fem_align_ohsix[\"ALIGN\"].value_counts()\n",
    "print(\"Alignment of Female characters in the year 2006: \")\n",
    "fem_align_count\n"
   ]
  },
  {
   "cell_type": "code",
   "execution_count": 26,
   "metadata": {},
   "outputs": [],
   "source": [
    "#Thanks to Wendy Norris for providing some of the skeleton needed in the beginning for this project\n",
    "#And also for helping me hash out the details when I ran into a problem!\n"
   ]
  },
  {
   "cell_type": "code",
   "execution_count": null,
   "metadata": {},
   "outputs": [],
   "source": []
  }
 ],
 "metadata": {
  "kernelspec": {
   "display_name": "Python 3",
   "language": "python",
   "name": "python3"
  },
  "language_info": {
   "codemirror_mode": {
    "name": "ipython",
    "version": 3
   },
   "file_extension": ".py",
   "mimetype": "text/x-python",
   "name": "python",
   "nbconvert_exporter": "python",
   "pygments_lexer": "ipython3",
   "version": "3.8.3"
  }
 },
 "nbformat": 4,
 "nbformat_minor": 4
}
