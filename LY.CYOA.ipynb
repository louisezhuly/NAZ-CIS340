{
 "cells": [
  {
   "cell_type": "markdown",
   "metadata": {},
   "source": [
    "# <font color = orange> **Choose Your Own Adventure: <br> Halloween Party Mystery** </font>\n",
    "## *Follow the prompts below, entering in your choice in the input box.*\n",
    "### <font color = red> **Maybe you'll win a prize at the end!** </font>\n",
    "\n",
    "<div>\n",
    "    <img src=\"https://image.freepik.com/free-vector/hand-drawn-halloween-haunted-house-background_23-2147918407.jpg\" align=\"left\"/>\n",
    "    </div>"
   ]
  },
  {
   "cell_type": "code",
   "execution_count": null,
   "metadata": {},
   "outputs": [],
   "source": [
    "print(\"It's 11:00 PM and you're making your way to the old mansion at the edge of town.\")\n",
    "print(\"You received an invitation to a Halloween Costume Party and the best costume wins $200.\")\n",
    "print(\"What costume are you going as this year?\")\n",
    "print(\"(1) Ghost\")\n",
    "print(\"(2) Lumberjack\")\n",
    "print(\"(3) Python\")\n",
    "#tip: you could put on some halloween music while you're playing"
   ]
  },
  {
   "cell_type": "code",
   "execution_count": null,
   "metadata": {},
   "outputs": [],
   "source": [
    "choice = int(input(\"Enter the number 1, 2, or 3: \"))"
   ]
  },
  {
   "cell_type": "code",
   "execution_count": null,
   "metadata": {},
   "outputs": [],
   "source": [
    "print(\"As you approach the door, a figure pops out from behind a column asking you for your invitation.\")\n",
    "print(\"What do you do?\")\n",
    "\n",
    "if choice == 1:\n",
    "    print(\"(4) Say 'Booo!'\")\n",
    "    print(\"(5) Toss the invitation to them.\")\n",
    "    costume = \"ghost\"\n",
    "    phrase = \"Enter the number 4 or 5: \"\n",
    "    \n",
    "elif choice == 2:\n",
    "    print(\"(6) Say 'Grrrr!'\")\n",
    "    print(\"(7) Swing your fake axe at them.\")\n",
    "    costume = \"lumberjack\"\n",
    "    phrase = \"Enter the number 6 or 7: \"\n",
    "\n",
    "elif choice == 3:\n",
    "    print(\"(8) Hiss 'pssss!'\")\n",
    "    print(\"(9) Slide the invitation to them.\")\n",
    "    costume = \"python\"\n",
    "    phrase = \"Enter the number 8 or 9: \""
   ]
  },
  {
   "cell_type": "code",
   "execution_count": null,
   "metadata": {},
   "outputs": [],
   "source": [
    "choice = int(input(phrase))"
   ]
  },
  {
   "cell_type": "markdown",
   "metadata": {},
   "source": [
    "<div>\n",
    "    <img src=\"https://www.halloweenasylum.com/assets/images/Morris/ggs512b.jpg\" width=\"250\" align=\"left\" />\n",
    "    </div>\n"
   ]
  },
  {
   "cell_type": "code",
   "execution_count": null,
   "metadata": {},
   "outputs": [],
   "source": [
    "#This cell doesn't out put anything but is just establishing some of the logic for the next cell\n",
    "\n",
    "if choice == 4:\n",
    "    response = \"The person stares blankly at you until you hand them the invitation.\"\n",
    "    \n",
    "elif choice == 5:\n",
    "    response = \"The person rolls their eyes at your before picking up the invitation.\"\n",
    "    \n",
    "elif choice == 6:\n",
    "    response = \"The person raises their eyebrows at you until you hand them the invitation.\"\n",
    "    \n",
    "elif choice == 7:\n",
    "    response = \"The person frowns at you until you hand them the invitation.\"\n",
    "    \n",
    "elif choice == 8:\n",
    "    response = \"The person smirks at you until you hand them the invitation.\"\n",
    "    \n",
    "elif choice == 9:\n",
    "    response = \"The person tucks the invitation into their pocket.\""
   ]
  },
  {
   "cell_type": "code",
   "execution_count": null,
   "metadata": {},
   "outputs": [],
   "source": [
    "print(response)\n",
    "print(\"The person asking for your invitation is an older man dressed as a butler.\")\n",
    "print(\"He tells you, 'I see you're wearing a\" + \" \" + costume + \" \" + \"costume. We've been waiting for your arrival.'\")\n",
    "print(\"The butler opens the door to the mansion and lets you inside.\")\n",
    "print(\" \")\n",
    "print(\"As you walk down the dark hallway, the butler directs you to a room on the left, saying,\")\n",
    "print(\"'The costume contest will start shortly. Please have some snacks while you wait.'\")\n",
    "print(\"The butler opens the door to a small kitchen with snack bowls on the counter.\")\n",
    "print(\"You approach the counter and are suddenly left by yourself.\")\n",
    "print(\" \")\n",
    "print(\"You feel a little hungry so decide to eat a snack.\")\n",
    "print(\"Which snack do you choose?\")\n",
    "\n",
    "if choice == 4:\n",
    "    print(\"(10) Cheez-its\")\n",
    "    print(\"(11) Gummy Worms\")\n",
    "    phrase = \"Enter the number 10 or 11: \"\n",
    "    \n",
    "elif choice == 5:\n",
    "    print(\"(12) Pretzels\")\n",
    "    print(\"(13) Cherry Tomatoes\")\n",
    "    phrase = \"Enter the number 12 or 13: \"\n",
    "    \n",
    "elif choice == 6:\n",
    "    print(\"(14) Sliced Apples\")\n",
    "    print(\"(15) Ants on a Log\")\n",
    "    phrase = \"Enter the number 14 or 15: \"\n",
    "    \n",
    "elif choice == 7:\n",
    "    print(\"(16) Saltines\")\n",
    "    print(\"(17) Raisins\")\n",
    "    phrase = \"Enter the number 16 or 17: \"\n",
    "    \n",
    "elif choice == 8:\n",
    "    print(\"(18) M&Ms\")\n",
    "    print(\"(19) Kit-Kat Bars\")\n",
    "    phrase = \"Enter the number 18 or 19: \"\n",
    "    \n",
    "elif choice == 9:\n",
    "    print(\"(20) Chocolate Brownies\")\n",
    "    print(\"(21) Chips & Salsa\")\n",
    "    phrase = \"Enter the number 20 or 21: \""
   ]
  },
  {
   "cell_type": "code",
   "execution_count": null,
   "metadata": {},
   "outputs": [],
   "source": [
    "choice = int(input(phrase))"
   ]
  },
  {
   "cell_type": "markdown",
   "metadata": {},
   "source": [
    "<div>\n",
    "    <img src =\"https://encrypted-tbn0.gstatic.com/images?q=tbn%3AANd9GcQMojSzUKzLaT9zSMTbQxu2L2JIlhNV1SHU_Q&usqp=CAU\" width=\"450\" align=\"left\" />\n",
    "    </div>"
   ]
  },
  {
   "cell_type": "code",
   "execution_count": null,
   "metadata": {},
   "outputs": [],
   "source": [
    "string1 = \"As you take a bite of the\"\n",
    "string2 = \"you begin to feel a little faint. You hear the door creak open behind you.\"\n",
    "string3 = \"Before you can see who it is, you black out.\"\n",
    "string4 = \"When you wake up, you're\"\n",
    "\n",
    "if choice == 10:\n",
    "    snack = \"cheez-its\"\n",
    "    result = \"laying on your couch still in your ghost costume and the clock reads 1 AM.\"\n",
    "    print(string1 + \" \" + snack + \", \" + string2 + \"\\n\" + string3 + \"\\n\" + string4 + \" \" + result)\n",
    "    \n",
    "elif choice == 11:\n",
    "    snack = \"gummy worms\"\n",
    "    result = \"laying in your bed in your pajamas as if you never left the house.\"\n",
    "    print(string1 + \" \" + snack + \", \" + string2 + \"\\n\" + string3 + \"\\n\" + string4 + \" \" + result)\n",
    "    \n",
    "elif choice == 12:\n",
    "    snack = \"pretzels\"\n",
    "    result = \"leaning against your front door with a bowl of pretzels in your lap.\"\n",
    "    print(string1 + \" \" + snack + \", \" + string2 + \"\\n\" + string3 + \"\\n\" + string4 + \" \" + result)\n",
    "    \n",
    "elif choice == 13:\n",
    "    snack = \"cherry tomatoes\"\n",
    "    result = \"sprawled out on your front steps, missing your shoes.\"\n",
    "    print(string1 + \" \" + snack + \", \" + string2 + \"\\n\" + string3 + \"\\n\" + string4 + \" \" + result)\n",
    "    \n",
    "elif choice == 14:\n",
    "    snack = \"sliced apples\"\n",
    "    result = \"sitting on your couch only in your shoes.\"\n",
    "    print(string1 + \" \" + snack + \", \" + string2 + \"\\n\" + string3 + \"\\n\" + string4 + \" \" + result)\n",
    "    \n",
    "elif choice == 15:\n",
    "    snack = \"ants on a log\"\n",
    "    result = \"on the floor of your living room surrounded by celery.\"\n",
    "    print(string1 + \" \" + snack + \", \" + string2 + \"\\n\" + string3 + \"\\n\" + string4 + \" \" + result)\n",
    "    \n",
    "elif choice == 16:\n",
    "    snack = \"saltines\"\n",
    "    result = \"laying on your front lawn soaking wet.\"\n",
    "    print(string1 + \" \" + snack + \", \" + string2 + \"\\n\" + string3 + \"\\n\" + string4 + \" \" + result)\n",
    "    \n",
    "elif choice == 17:\n",
    "    snack = \"raisins\"\n",
    "    result = \"laying in your back yard with mud seeping into your costume.\"\n",
    "    print(string1 + \" \" + snack + \", \" + string2 + \"\\n\" + string3 + \"\\n\" + string4 + \" \" + result)\n",
    "    \n",
    "elif choice == 18:\n",
    "    snack = \"M&Ms\"\n",
    "    result = \"tucked into your bed with a small candle lit on your bedside table.\"\n",
    "    print(string1 + \" \" + snack + \", \" + string2 + \"\\n\" + string3 + \"\\n\" + string4 + \" \" + result)\n",
    "    \n",
    "elif choice == 19:\n",
    "    snack = \"Kit-Kat bars\"\n",
    "    result = \"tucked into your bed with a bowl of Kit-Kat bars on your bedside table.\"\n",
    "    print(string1 + \" \" + snack + \", \" + string2 + \"\\n\" + string3 + \"\\n\" + string4 + \" \" + result)\n",
    "    \n",
    "elif choice == 20:\n",
    "    snack = \"chocolate brownies\"\n",
    "    result = \"tucked into your bed with a check \\nfor $200 and a note stating \\n'Congratulations, You won!' on your bedside table.\"\n",
    "    print(string1 + \" \" + snack + \", \" + string2 + \" \" + string3 + \"\\n\" + string4 + \" \" + result)\n",
    "    \n",
    "elif choice == 21:\n",
    "    snack = \"chips and salsa\"\n",
    "    result = \"tucked into your bed still in your python costume.\"\n",
    "    print(string1 + \" \" + snack + \", \" + string2 + \"\\n\" + string3 + \"\\n\" + string4 + \" \" + result)\n",
    "    "
   ]
  },
  {
   "cell_type": "markdown",
   "metadata": {},
   "source": [
    "# <font color = orange> ** ~ The End ~ ** </font>\n",
    "\n",
    "# If you didn't win the prize, try playing again!"
   ]
  },
  {
   "cell_type": "code",
   "execution_count": null,
   "metadata": {},
   "outputs": [],
   "source": []
  }
 ],
 "metadata": {
  "kernelspec": {
   "display_name": "Python 3",
   "language": "python",
   "name": "python3"
  },
  "language_info": {
   "codemirror_mode": {
    "name": "ipython",
    "version": 3
   },
   "file_extension": ".py",
   "mimetype": "text/x-python",
   "name": "python",
   "nbconvert_exporter": "python",
   "pygments_lexer": "ipython3",
   "version": "3.8.3"
  }
 },
 "nbformat": 4,
 "nbformat_minor": 4
}
